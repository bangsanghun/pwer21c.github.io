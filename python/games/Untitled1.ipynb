{
 "cells": [
  {
   "cell_type": "code",
   "execution_count": 2,
   "metadata": {},
   "outputs": [
    {
     "ename": "SystemExit",
     "evalue": "",
     "output_type": "error",
     "traceback": [
      "An exception has occurred, use %tb to see the full traceback.\n",
      "\u001b[0;31mSystemExit\u001b[0m\n"
     ]
    },
    {
     "name": "stderr",
     "output_type": "stream",
     "text": [
      "/Users/bang/opt/anaconda3/lib/python3.7/site-packages/IPython/core/interactiveshell.py:3334: UserWarning: To exit: use 'exit', 'quit', or Ctrl-D.\n",
      "  warn(\"To exit: use 'exit', 'quit', or Ctrl-D.\", stacklevel=1)\n"
     ]
    }
   ],
   "source": [
    "import pygame, sys\n",
    "from pygame.locals import *\n",
    "\n",
    "pygame.init()\n",
    "\n",
    "FPS = 30 # frames per second setting\n",
    "fpsClock = pygame.time.Clock()\n",
    "\n",
    "# set up the window\n",
    "DISPLAYSURF = pygame.display.set_mode((400, 300), 0, 32)\n",
    "pygame.display.set_caption('Animation')\n",
    "\n",
    "WHITE = (255, 255, 255)\n",
    "catImg = pygame.image.load('images/cat.png')\n",
    "catx = 10\n",
    "caty = 10\n",
    "direction = 'right'\n",
    "\n",
    "while True: # the main game loop\n",
    "    DISPLAYSURF.fill(WHITE)\n",
    "\n",
    "    if direction == 'right':\n",
    "        catx += 5\n",
    "        if catx == 280:\n",
    "            direction = 'down'\n",
    "    elif direction == 'down':\n",
    "        caty += 5\n",
    "        if caty == 220:\n",
    "            direction = 'left'\n",
    "    elif direction == 'left':\n",
    "        catx -= 5\n",
    "        if catx == 10:\n",
    "            direction = 'up'\n",
    "    elif direction == 'up':\n",
    "        caty -= 5\n",
    "        if caty == 10:\n",
    "            direction = 'right'\n",
    "\n",
    "    DISPLAYSURF.blit(catImg, (catx, caty))\n",
    "\n",
    "    for event in pygame.event.get():\n",
    "        if event.type == QUIT:\n",
    "            pygame.quit()\n",
    "            sys.exit()\n",
    "\n",
    "    pygame.display.update()\n",
    "    fpsClock.tick(FPS)"
   ]
  },
  {
   "cell_type": "code",
   "execution_count": null,
   "metadata": {},
   "outputs": [],
   "source": []
  }
 ],
 "metadata": {
  "kernelspec": {
   "display_name": "Python 3",
   "language": "python",
   "name": "python3"
  },
  "language_info": {
   "codemirror_mode": {
    "name": "ipython",
    "version": 3
   },
   "file_extension": ".py",
   "mimetype": "text/x-python",
   "name": "python",
   "nbconvert_exporter": "python",
   "pygments_lexer": "ipython3",
   "version": "3.7.4"
  }
 },
 "nbformat": 4,
 "nbformat_minor": 2
}
