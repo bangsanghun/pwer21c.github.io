{
 "cells": [
  {
   "cell_type": "code",
   "execution_count": 2,
   "metadata": {},
   "outputs": [
    {
     "name": "stdout",
     "output_type": "stream",
     "text": [
      "Collecting pygame\n",
      "\u001b[?25l  Downloading https://files.pythonhosted.org/packages/06/e4/27001c0e26068981cd97cf2cc3617e96ec87424c950eba0890b03f15fe29/pygame-2.0.1-cp37-cp37m-macosx_10_9_intel.whl (6.9MB)\n",
      "\u001b[K     |████████████████████████████████| 6.9MB 4.0MB/s eta 0:00:01\n",
      "\u001b[?25hInstalling collected packages: pygame\n",
      "Successfully installed pygame-2.0.1\n",
      "Note: you may need to restart the kernel to use updated packages.\n"
     ]
    }
   ],
   "source": [
    "pip install pygame"
   ]
  },
  {
   "cell_type": "code",
   "execution_count": null,
   "metadata": {},
   "outputs": [],
   "source": [
    "이렇게 되면 잘 설치된 겁니다."
   ]
  },
  {
   "cell_type": "code",
   "execution_count": 1,
   "metadata": {},
   "outputs": [
    {
     "name": "stdout",
     "output_type": "stream",
     "text": [
      "pygame 2.0.1 (SDL 2.0.14, Python 3.7.4)\n",
      "Hello from the pygame community. https://www.pygame.org/contribute.html\n"
     ]
    }
   ],
   "source": [
    "import pygame"
   ]
  },
  {
   "cell_type": "code",
   "execution_count": null,
   "metadata": {},
   "outputs": [],
   "source": [
    "#1. 게임초기화\n",
    "pygame.init()\n",
    "\n",
    "#2. 게임창 옵션 설정\n",
    "size = [400,900]\n",
    "screen=pygame.display.set_mode(size)\n",
    "\n",
    "title=\"My Game\"\n",
    "pygame.display.set_caption(title)\n",
    "\n",
    "#3. 게임 내 필요한 설정\n",
    "clock = pygame.time.Clock()\n",
    "\n",
    "ss=pygame.image.load(\"images/roket.png\").convert_alpha()\n",
    "\n",
    "black=(0,0,0)\n",
    "white=(255,255,255)\n",
    "color=black\n",
    "\n",
    "\n",
    "#4. 메인 이벤트\n",
    "SB=0\n",
    "\n",
    "while SB==0:\n",
    "    #FPS\n",
    "    clock.tick(60)\n",
    "    # various inputs\n",
    "    # 이벤트가 복합적이기 때문에 포문으로 받는다.\n",
    "    for event in pygame.event.get():\n",
    "        if event.type == pygame.QUIT:\n",
    "            SB=1\n",
    "    #입력,시간에 따른 변화는 없다. 현재는\n",
    "    #그리기, 이것은 검정색으로 칠한다.\n",
    "    screen.fill(color)\n",
    "    screen.blit(ss,(0,0))\n",
    "    #update\n",
    "    pygame.display.flip()\n",
    "\n",
    "    pygame.quit()\n",
    "#4-1. FPS 설정\n",
    "#4-2. 각종 입력 감지\n",
    "#4-3. 시간과 입력에 따른 변화\n",
    "#그리기\n",
    "#업데이트\n",
    "#게임종료\n",
    "\n"
   ]
  },
  {
   "cell_type": "code",
   "execution_count": null,
   "metadata": {},
   "outputs": [],
   "source": []
  }
 ],
 "metadata": {
  "kernelspec": {
   "display_name": "Python 3",
   "language": "python",
   "name": "python3"
  },
  "language_info": {
   "codemirror_mode": {
    "name": "ipython",
    "version": 3
   },
   "file_extension": ".py",
   "mimetype": "text/x-python",
   "name": "python",
   "nbconvert_exporter": "python",
   "pygments_lexer": "ipython3",
   "version": "3.7.4"
  }
 },
 "nbformat": 4,
 "nbformat_minor": 2
}
