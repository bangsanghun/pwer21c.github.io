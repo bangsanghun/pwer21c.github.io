{
 "cells": [
  {
   "cell_type": "markdown",
   "metadata": {},
   "source": [
    "지금 밖에 비가 온다면 나갈때 우산을 들고 나가야 하죠 ?\n",
    "비가 온다면 if it rains , s'il pleut\n",
    "조건문 입니다.\n"
   ]
  },
  {
   "cell_type": "markdown",
   "metadata": {},
   "source": [
    "잘 기억해 두세요\n",
    "\n",
    "Equals: a == b\n",
    "Not Equals: a != b\n",
    "Less than: a < b\n",
    "Less than or equal to: a <= b\n",
    "Greater than: a > b\n",
    "Greater than or equal to: a >= b"
   ]
  },
  {
   "cell_type": "code",
   "execution_count": 3,
   "metadata": {},
   "outputs": [
    {
     "name": "stdout",
     "output_type": "stream",
     "text": [
      "b is greater than a\n",
      "b est supérieur à a\n",
      "b는 a보다 더 커요\n"
     ]
    }
   ],
   "source": [
    "a = 33\n",
    "b = 200\n",
    "if b > a:\n",
    "  print(\"b is greater than a\")\n",
    "  print(\"b est supérieur à a\")\n",
    "  print(\"b는 a보다 더 커요\")  "
   ]
  },
  {
   "cell_type": "markdown",
   "metadata": {},
   "source": [
    "그럼 좀더 다르게 해볼까요?"
   ]
  },
  {
   "cell_type": "code",
   "execution_count": 6,
   "metadata": {},
   "outputs": [
    {
     "name": "stdout",
     "output_type": "stream",
     "text": [
      "b는 a보다 커요\n"
     ]
    }
   ],
   "source": [
    "a=33\n",
    "b=200\n",
    "if b > a:\n",
    "    print(\"b는 a보다 커요\")\n",
    "elif b==a:\n",
    "    print(\"b와 a는 같은 숫자에요\")\n",
    "else:\n",
    "    print(\"b는 a보다 작아요\")\n",
    "    \n"
   ]
  },
  {
   "cell_type": "markdown",
   "metadata": {},
   "source": [
    "그럼 a의 숫자를 바꿔 봅시다. 330으로"
   ]
  },
  {
   "cell_type": "code",
   "execution_count": 7,
   "metadata": {},
   "outputs": [
    {
     "name": "stdout",
     "output_type": "stream",
     "text": [
      "b는 a보다 작아요\n"
     ]
    }
   ],
   "source": [
    "a=330\n",
    "b=200\n",
    "if b > a:\n",
    "    print(\"b는 a보다 커요\")\n",
    "elif b==a:\n",
    "    print(\"b와 a는 같은 숫자에요\")\n",
    "else:\n",
    "    print(\"b는 a보다 작아요\")\n",
    "    "
   ]
  },
  {
   "cell_type": "markdown",
   "metadata": {},
   "source": [
    "결과가 다른걸 알수가 있어요. 자 여기서 아래를 보세요"
   ]
  },
  {
   "cell_type": "code",
   "execution_count": 8,
   "metadata": {},
   "outputs": [
    {
     "ename": "IndentationError",
     "evalue": "expected an indented block (<ipython-input-8-a723ee43b343>, line 4)",
     "output_type": "error",
     "traceback": [
      "\u001b[0;36m  File \u001b[0;32m\"<ipython-input-8-a723ee43b343>\"\u001b[0;36m, line \u001b[0;32m4\u001b[0m\n\u001b[0;31m    print(\"b는 a보다 커요\")\u001b[0m\n\u001b[0m        ^\u001b[0m\n\u001b[0;31mIndentationError\u001b[0m\u001b[0;31m:\u001b[0m expected an indented block\n"
     ]
    }
   ],
   "source": [
    "a=330\n",
    "b=200\n",
    "if b > a:\n",
    "print(\"b는 a보다 커요\")\n",
    "elif b==a:\n",
    "print(\"b와 a는 같은 숫자에요\")\n",
    "else:\n",
    "print(\"b는 a보다 작아요\")\n",
    "    "
   ]
  },
  {
   "cell_type": "markdown",
   "metadata": {},
   "source": [
    "에러가 생겨요 꼭 : 다음에 오는건 앞에 공간을 비워서 줄을 맞춰야 해요. 그걸 indentation 에러인데 자주 만나게 될꺼에요."
   ]
  },
  {
   "cell_type": "markdown",
   "metadata": {},
   "source": [
    "자 이제는 while문"
   ]
  },
  {
   "cell_type": "code",
   "execution_count": null,
   "metadata": {},
   "outputs": [],
   "source": [
    "## 이건 뭔지 알죠 i라는 변수에 1을 집어 넣은거에요. i는 1이에요 그런데 변수는 변하는 거라고 했죠? 잘보세요\n",
    "i = 1 \n",
    "# while 옆에 있는 i<6은 i가 6보다 작으면 이 작업을 하겠다는 거에요\n",
    "while i < 6:\n",
    "  print(i)\n",
    "  i += 1\n",
    "    \n"
   ]
  },
  {
   "cell_type": "markdown",
   "metadata": {},
   "source": [
    "새로운게 있네. i+=1 이건 i=i+1과 같은거에요.\n",
    "i가 1이죠. 그러면\n",
    "i=(i=1)+1\n",
    "이렇게 i에 1이 들어가요.그런데 제일 left에 있는것 gauche에 있는것은 계산된게 들어가는거에요\n",
    "그러니까\n",
    "i=1+1=2 \n",
    "2로 바뀌는거에요\n",
    "그럼 run 해볼까요?\n",
    "상상해봐요. 답이 뭘까요?"
   ]
  },
  {
   "cell_type": "code",
   "execution_count": 9,
   "metadata": {},
   "outputs": [
    {
     "name": "stdout",
     "output_type": "stream",
     "text": [
      "1\n",
      "2\n",
      "3\n",
      "4\n",
      "5\n"
     ]
    }
   ],
   "source": [
    "i = 1 \n",
    "while i < 6:\n",
    "  print(i)\n",
    "  i += 1\n",
    "    "
   ]
  },
  {
   "cell_type": "markdown",
   "metadata": {},
   "source": [
    "잘했어요. 그런데 저는 1에서 10까지 출력하고 싶어요.\n",
    "그러면"
   ]
  },
  {
   "cell_type": "code",
   "execution_count": 10,
   "metadata": {},
   "outputs": [
    {
     "name": "stdout",
     "output_type": "stream",
     "text": [
      "1\n",
      "2\n",
      "3\n",
      "4\n",
      "5\n",
      "6\n",
      "7\n",
      "8\n",
      "9\n",
      "10\n"
     ]
    }
   ],
   "source": [
    "i = 1 \n",
    "while i <= 10:\n",
    "  print(i)\n",
    "  i += 1"
   ]
  },
  {
   "cell_type": "markdown",
   "metadata": {},
   "source": [
    "even, pair "
   ]
  }
 ],
 "metadata": {
  "kernelspec": {
   "display_name": "Python 3",
   "language": "python",
   "name": "python3"
  },
  "language_info": {
   "codemirror_mode": {
    "name": "ipython",
    "version": 3
   },
   "file_extension": ".py",
   "mimetype": "text/x-python",
   "name": "python",
   "nbconvert_exporter": "python",
   "pygments_lexer": "ipython3",
   "version": "3.7.4"
  }
 },
 "nbformat": 4,
 "nbformat_minor": 2
}
