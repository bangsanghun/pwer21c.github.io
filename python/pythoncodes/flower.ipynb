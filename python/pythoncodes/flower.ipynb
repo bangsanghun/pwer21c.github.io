{
 "cells": [
  {
   "cell_type": "markdown",
   "metadata": {},
   "source": [
    "function : 자주 쓰는 명령을 미리 작성해 두고 \n",
    "필요할때 불러서 쓴다. 불러올때는 그 이름을 적고 변수값을 넣어준다. "
   ]
  },
  {
   "cell_type": "code",
   "execution_count": 15,
   "metadata": {
    "scrolled": false
   },
   "outputs": [
    {
     "name": "stdout",
     "output_type": "stream",
     "text": [
      "x+y=\n",
      "200\n",
      "x-y=\n",
      "0\n"
     ]
    }
   ],
   "source": [
    "def my_sum(x,y):\n",
    "    print( \"x+y=\")\n",
    "    print(x+y)\n",
    "    print(\"x-y=\")\n",
    "    print(x-y)\n",
    "    \n",
    "my_sum(100,100)"
   ]
  },
  {
   "cell_type": "code",
   "execution_count": 10,
   "metadata": {},
   "outputs": [],
   "source": [
    "bsh.reset()\n",
    "bsh.color(\"blue\")\n",
    "for i in range(2):\n",
    "    bsh.circle(100,60)\n",
    "    bsh.left(180-60)"
   ]
  },
  {
   "cell_type": "code",
   "execution_count": 5,
   "metadata": {},
   "outputs": [],
   "source": [
    "import turtle\n",
    "import random\n",
    "\n",
    "# r 반지름 angle 각도\n",
    "def petal(t, r, angle):\n",
    "    for i in range(2):\n",
    "        t.circle(r,angle)\n",
    "        t.left(180-angle)\n",
    "        \n",
    "# n 잎사귀 갯수 r 반지름 angle 각도\n",
    "def flower(t, n, r, angle):\n",
    "    for i in range(n):\n",
    "        petal(t, r, angle)\n",
    "        t.left(360.0/n)\n",
    "\n",
    "# 이 함수는 펜을 들어서 옮기는 명령, 즉 그림을 그리지 않는 명령\n",
    "def move(t, length):\n",
    "    t.penup()\n",
    "    t.forward(length)\n",
    "    t.pendown()\n",
    "\n",
    "bsh = turtle.Pen()\n",
    "\n",
    "bsh.speed(0)\n",
    "\n",
    "\n",
    "colors=[\"violet\",\"chocolate\",\"yellow\",\"red\",\"blue\",\"black\"]\n",
    "\n",
    "\n",
    "\n",
    "bsh.color(random.choice(colors))\n",
    "move(bsh, 0)\n",
    "flower(bsh, 4, 60, 30.0)\n",
    "\n",
    "bsh.color(random.choice(colors))\n",
    "bsh.begin_fill()\n",
    "move(bsh, 100)\n",
    "flower(bsh, 7, 60.0, 60.0)\n",
    "bsh.end_fill()\n",
    "\n",
    "bsh.color(random.choice(colors))\n",
    "bsh.begin_fill()\n",
    "move(bsh, 200)\n",
    "flower(bsh, 7, 60.0, 60.0)\n",
    "bsh.end_fill()\n"
   ]
  },
  {
   "cell_type": "code",
   "execution_count": 20,
   "metadata": {},
   "outputs": [],
   "source": [
    "exit()"
   ]
  },
  {
   "cell_type": "code",
   "execution_count": 4,
   "metadata": {},
   "outputs": [],
   "source": [
    "bsh.reset()"
   ]
  },
  {
   "cell_type": "code",
   "execution_count": 17,
   "metadata": {},
   "outputs": [],
   "source": [
    "bsh.speed(0)\n",
    "\n",
    "bsh.pu()\n",
    "bsh.goto(0,300)\n",
    "move(bsh, -100)\n",
    "bsh.color(\"yellow\")\n",
    "bsh.begin_fill()\n",
    "move(bsh, 100)\n",
    "flower(bsh, 10, 40.0, 80.0)\n",
    "bsh.end_fill()\n",
    "bsh.color(\"black\")\n",
    "bsh.width(1)\n",
    "flower(bsh, 10, 40.0, 80.0)\n",
    "\n",
    "bsh.pu()\n",
    "bsh.goto(0,200)\n",
    "move(bsh, -100)\n",
    "bsh.color(\"red\")\n",
    "bsh.begin_fill()\n",
    "move(bsh, 100)\n",
    "flower(bsh, 10, 40.0, 80.0)\n",
    "bsh.end_fill()\n",
    "bsh.color(\"black\")\n",
    "bsh.width(1)\n",
    "flower(bsh, 10, 40.0, 80.0)\n",
    "\n"
   ]
  },
  {
   "cell_type": "code",
   "execution_count": 19,
   "metadata": {},
   "outputs": [],
   "source": [
    "bsh.pu()\n",
    "bsh.goto(-100,200)\n",
    "move(bsh, -200)\n",
    "bsh.color(\"red\")\n",
    "bsh.begin_fill()\n",
    "move(bsh, 100)\n",
    "flower(bsh, 10, 40.0, 80.0)\n",
    "bsh.end_fill()\n",
    "bsh.color(\"black\")\n",
    "bsh.width(1)\n",
    "flower(bsh, 10, 40.0, 80.0)\n"
   ]
  },
  {
   "cell_type": "code",
   "execution_count": null,
   "metadata": {},
   "outputs": [],
   "source": []
  }
 ],
 "metadata": {
  "kernelspec": {
   "display_name": "Python 3",
   "language": "python",
   "name": "python3"
  },
  "language_info": {
   "codemirror_mode": {
    "name": "ipython",
    "version": 3
   },
   "file_extension": ".py",
   "mimetype": "text/x-python",
   "name": "python",
   "nbconvert_exporter": "python",
   "pygments_lexer": "ipython3",
   "version": "3.7.4"
  }
 },
 "nbformat": 4,
 "nbformat_minor": 2
}
