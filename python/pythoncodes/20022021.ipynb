{
 "cells": [
  {
   "cell_type": "markdown",
   "metadata": {},
   "source": [
    "1에서 100까지의 수중에서 7의 배수 multiples de 7, multiples of 7를 출력할때 입니다."
   ]
  },
  {
   "cell_type": "code",
   "execution_count": 1,
   "metadata": {
    "scrolled": true
   },
   "outputs": [
    {
     "name": "stdout",
     "output_type": "stream",
     "text": [
      "7\n",
      "14\n",
      "21\n",
      "28\n",
      "35\n",
      "42\n",
      "49\n",
      "56\n",
      "63\n",
      "70\n",
      "77\n",
      "84\n",
      "91\n",
      "98\n"
     ]
    }
   ],
   "source": [
    "i=1\n",
    "while i<100:\n",
    "    if i%7==0:\n",
    "        print(i)\n",
    "    i=i+1\n",
    "    "
   ]
  },
  {
   "cell_type": "markdown",
   "metadata": {},
   "source": [
    "그런데 7의 배수를 list 변수에 저장해서 출력하기 위해서는 아래와 같이 합니다."
   ]
  },
  {
   "cell_type": "code",
   "execution_count": 2,
   "metadata": {},
   "outputs": [
    {
     "name": "stdout",
     "output_type": "stream",
     "text": [
      "[7, 14, 21, 28, 35, 42, 49, 56, 63, 70, 77, 84, 91, 98]\n"
     ]
    }
   ],
   "source": [
    "i=1\n",
    "multiplesof7=[]\n",
    "while i<100:\n",
    "    if i%7==0:\n",
    "        multiplesof7.append(i)\n",
    "    i=i+1\n",
    "print(multiplesof7)\n",
    "    "
   ]
  },
  {
   "cell_type": "markdown",
   "metadata": {},
   "source": [
    "7과 5의 배수를 저장하기 위해서는 다음과 같아요"
   ]
  },
  {
   "cell_type": "code",
   "execution_count": 4,
   "metadata": {},
   "outputs": [
    {
     "name": "stdout",
     "output_type": "stream",
     "text": [
      "[7, 14, 21, 28, 35, 42, 49, 56, 63, 70, 77, 84, 91, 98]\n",
      "[5, 10, 15, 20, 25, 30, 40, 45, 50, 55, 60, 65, 75, 80, 85, 90, 95]\n"
     ]
    }
   ],
   "source": [
    "i=1\n",
    "group7=[]\n",
    "group5=[]\n",
    "\n",
    "while i<100:\n",
    "    if i%7==0:\n",
    "        group7.append(i)\n",
    "    elif i%5==0:\n",
    "        group5.append(i)\n",
    "    i=i+1\n",
    "print(group7)\n",
    "print(group5)\n",
    "    \n",
    "    \n",
    "    "
   ]
  },
  {
   "cell_type": "markdown",
   "metadata": {},
   "source": [
    "숙제. 그러면 3과 6과 9의 배수를 구하기 위해서는 어떻게 해야 할까요?\n",
    "참고로 위에서 5의 배수에 보년 35와 70이 빠져 있어요\n",
    "그래서 위의 코드는 오히려 이렇게 되어야 해요. \n",
    "보세요 35와 70이 들어있어요.\n",
    "왜일까요 ? 이게 숙제에 대한 힌트입니다."
   ]
  },
  {
   "cell_type": "code",
   "execution_count": 5,
   "metadata": {},
   "outputs": [
    {
     "name": "stdout",
     "output_type": "stream",
     "text": [
      "[7, 14, 21, 28, 35, 42, 49, 56, 63, 70, 77, 84, 91, 98]\n",
      "[5, 10, 15, 20, 25, 30, 35, 40, 45, 50, 55, 60, 65, 70, 75, 80, 85, 90, 95]\n"
     ]
    }
   ],
   "source": [
    "i=1\n",
    "group7=[]\n",
    "group5=[]\n",
    "\n",
    "while i<100:\n",
    "    if i%7==0:\n",
    "        group7.append(i)\n",
    "    if i%5==0:\n",
    "        group5.append(i)\n",
    "    i=i+1\n",
    "print(group7)\n",
    "print(group5)\n",
    "    "
   ]
  },
  {
   "cell_type": "code",
   "execution_count": null,
   "metadata": {},
   "outputs": [],
   "source": []
  }
 ],
 "metadata": {
  "kernelspec": {
   "display_name": "Python 3",
   "language": "python",
   "name": "python3"
  },
  "language_info": {
   "codemirror_mode": {
    "name": "ipython",
    "version": 3
   },
   "file_extension": ".py",
   "mimetype": "text/x-python",
   "name": "python",
   "nbconvert_exporter": "python",
   "pygments_lexer": "ipython3",
   "version": "3.7.4"
  }
 },
 "nbformat": 4,
 "nbformat_minor": 2
}
