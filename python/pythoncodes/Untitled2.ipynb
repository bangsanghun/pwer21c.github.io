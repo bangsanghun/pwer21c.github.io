{
 "cells": [
  {
   "cell_type": "code",
   "execution_count": 1,
   "metadata": {},
   "outputs": [
    {
     "name": "stdout",
     "output_type": "stream",
     "text": [
      "c\n"
     ]
    }
   ],
   "source": [
    "import random\n",
    "\n",
    "foo = ['a', 'b', 'c', 'd', 'e']\n",
    "print(random.choice(foo))"
   ]
  },
  {
   "cell_type": "code",
   "execution_count": 12,
   "metadata": {},
   "outputs": [
    {
     "name": "stdout",
     "output_type": "stream",
     "text": [
      "a\n"
     ]
    },
    {
     "data": {
      "text/plain": [
       "18"
      ]
     },
     "execution_count": 12,
     "metadata": {},
     "output_type": "execute_result"
    }
   ],
   "source": [
    "print(random.choice(foo))\n",
    "random.randint(1,100)"
   ]
  },
  {
   "cell_type": "code",
   "execution_count": 13,
   "metadata": {},
   "outputs": [
    {
     "name": "stdout",
     "output_type": "stream",
     "text": [
      "나는 얼마일까요 ?30\n",
      "30.0\n",
      "너무 작아요 다시요\n",
      "나는 얼마일까요 ?60\n",
      "60.0\n",
      "너무 커요 다시요\n",
      "나는 얼마일까요 ?50\n",
      "50.0\n",
      "너무 커요 다시요\n",
      "나는 얼마일까요 ?40\n",
      "40.0\n",
      "너무 커요 다시요\n",
      "나는 얼마일까요 ?35\n",
      "35.0\n",
      "잘했어요\n"
     ]
    }
   ],
   "source": [
    "me=random.randint(1,100)\n",
    "while True:\n",
    "    \n",
    "    your_number = float(input(\"나는 얼마일까요 ?\"))\n",
    "    print(your_number)\n",
    "    if your_number>me:\n",
    "        print(\"너무 커요 다시요\")\n",
    "    elif your_number<me:\n",
    "        print(\"너무 작아요 다시요\")\n",
    "    else:\n",
    "        print(\"잘했어요\")\n",
    "        break;\n",
    "    "
   ]
  },
  {
   "cell_type": "code",
   "execution_count": null,
   "metadata": {},
   "outputs": [],
   "source": []
  }
 ],
 "metadata": {
  "kernelspec": {
   "display_name": "Python 3",
   "language": "python",
   "name": "python3"
  },
  "language_info": {
   "codemirror_mode": {
    "name": "ipython",
    "version": 3
   },
   "file_extension": ".py",
   "mimetype": "text/x-python",
   "name": "python",
   "nbconvert_exporter": "python",
   "pygments_lexer": "ipython3",
   "version": "3.7.4"
  }
 },
 "nbformat": 4,
 "nbformat_minor": 2
}
