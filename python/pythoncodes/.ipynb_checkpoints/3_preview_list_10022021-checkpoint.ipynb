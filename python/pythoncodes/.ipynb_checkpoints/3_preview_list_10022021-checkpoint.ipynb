{
 "cells": [
  {
   "cell_type": "markdown",
   "metadata": {},
   "source": [
    "리스트 list에 대하여 알아봅시다."
   ]
  },
  {
   "cell_type": "markdown",
   "metadata": {},
   "source": [
    "친구들 변수 variable 은 기억하죠 ?"
   ]
  },
  {
   "cell_type": "code",
   "execution_count": 1,
   "metadata": {},
   "outputs": [
    {
     "name": "stdout",
     "output_type": "stream",
     "text": [
      "30\n"
     ]
    }
   ],
   "source": [
    "x=10\n",
    "y=20\n",
    "print(x+y)"
   ]
  },
  {
   "cell_type": "markdown",
   "metadata": {},
   "source": [
    "그런데 이건 어떻게 될까요 ?\n",
    "숫자들을 한데 모아서 하나의 변수에 넣었어요.\n",
    "숫자 다음에는 ,로 구분되었네요."
   ]
  },
  {
   "cell_type": "code",
   "execution_count": 4,
   "metadata": {},
   "outputs": [
    {
     "name": "stdout",
     "output_type": "stream",
     "text": [
      "30\n"
     ]
    }
   ],
   "source": [
    "numbers=[10,20]\n",
    "print(sum(numbers))"
   ]
  },
  {
   "cell_type": "markdown",
   "metadata": {},
   "source": [
    "자 다음은 숫자가 아닌 글자들을 모아두었어요. 과일이름을 한데 모아서\n",
    "리스트 이름을 fruits라고 할께요."
   ]
  },
  {
   "cell_type": "code",
   "execution_count": 5,
   "metadata": {},
   "outputs": [
    {
     "name": "stdout",
     "output_type": "stream",
     "text": [
      "['apple', 'banana', 'cherry']\n"
     ]
    }
   ],
   "source": [
    "fruits=[\"apple\", \"banana\", \"cherry\"]\n",
    "print(fruits)"
   ]
  },
  {
   "cell_type": "markdown",
   "metadata": {},
   "source": [
    "리스트는 변수랑 비슷하지만 시작할때 \"[\"로 시작해서 ]  끝나게 되어 있어요\n",
    "숫자일때는 따옴표 \"를 쓰지 않고 문자일때는 \"\" 안에 글자를 넣어주세요. "
   ]
  },
  {
   "cell_type": "code",
   "execution_count": 2,
   "metadata": {},
   "outputs": [
    {
     "name": "stdout",
     "output_type": "stream",
     "text": [
      "['pomme', 'banane', 'cerise', 'orange', 'poire']\n"
     ]
    }
   ],
   "source": [
    "fruits2=[\"pomme\", \"banane\", \"cerise\", \"orange\", \"poire\"]\n",
    "print(fruits2)\n",
    "##pêche framboise"
   ]
  },
  {
   "cell_type": "markdown",
   "metadata": {},
   "source": [
    "change : fruits[2]=\"xkxkx\"\n",
    "fruits.remove(\"pomme\")\n",
    "fruits.append(\"yyyy\")\n"
   ]
  }
 ],
 "metadata": {
  "kernelspec": {
   "display_name": "Python 3",
   "language": "python",
   "name": "python3"
  },
  "language_info": {
   "codemirror_mode": {
    "name": "ipython",
    "version": 3
   },
   "file_extension": ".py",
   "mimetype": "text/x-python",
   "name": "python",
   "nbconvert_exporter": "python",
   "pygments_lexer": "ipython3",
   "version": "3.7.4"
  }
 },
 "nbformat": 4,
 "nbformat_minor": 2
}
