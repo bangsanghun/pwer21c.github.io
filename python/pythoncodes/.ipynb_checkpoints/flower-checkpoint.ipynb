{
 "cells": [
  {
   "cell_type": "code",
   "execution_count": 2,
   "metadata": {},
   "outputs": [],
   "source": [
    "import turtle\n",
    "\n",
    "def petal(t, r, angle):\n",
    "    for i in range(2):\n",
    "        t.circle(r,angle)\n",
    "        t.left(180-angle)\n",
    "\n",
    "def flower(t, n, r, angle):\n",
    "    for i in range(n):\n",
    "        petal(t, r, angle)\n",
    "        t.left(360.0/n)\n",
    "\n",
    "def move(t, length):\n",
    "    t.penup()\n",
    "    t.forward(length)\n",
    "    t.pendown()\n",
    "\n",
    "bsh = turtle.Pen()\n",
    "\n",
    "bsh.speed(0)\n",
    "\n",
    "bsh.color(\"coral\")\n",
    "move(bsh, 0)\n",
    "flower(bsh, 7, 60, 60.0)\n",
    "\n",
    "bsh.color(\"violet\")\n",
    "bsh.begin_fill()\n",
    "move(bsh, 100)\n",
    "flower(bsh, 7, 60.0, 60.0)\n",
    "bsh.end_fill()\n",
    "\n",
    "bsh.color(\"chocolate\")\n",
    "bsh.begin_fill()\n",
    "move(bsh, 200)\n",
    "flower(bsh, 7, 60.0, 60.0)\n",
    "bsh.end_fill()\n"
   ]
  },
  {
   "cell_type": "code",
   "execution_count": 2,
   "metadata": {},
   "outputs": [],
   "source": [
    "exit()"
   ]
  },
  {
   "cell_type": "code",
   "execution_count": null,
   "metadata": {},
   "outputs": [],
   "source": []
  }
 ],
 "metadata": {
  "kernelspec": {
   "display_name": "Python 3",
   "language": "python",
   "name": "python3"
  },
  "language_info": {
   "codemirror_mode": {
    "name": "ipython",
    "version": 3
   },
   "file_extension": ".py",
   "mimetype": "text/x-python",
   "name": "python",
   "nbconvert_exporter": "python",
   "pygments_lexer": "ipython3",
   "version": "3.7.4"
  }
 },
 "nbformat": 4,
 "nbformat_minor": 2
}
