{
 "cells": [
  {
   "cell_type": "code",
   "execution_count": 9,
   "metadata": {},
   "outputs": [],
   "source": [
    "import turtle\n",
    "import random\n",
    "\n",
    "# r 반지름 angle 각도\n",
    "def petal(t, r, angle):\n",
    "    for i in range(2):\n",
    "        t.circle(r,angle)\n",
    "        t.left(180-angle)\n",
    "        \n",
    "# n 잎사귀 갯수 r 반지름 angle 각도\n",
    "def flower(t, n, r, angle):\n",
    "    for i in range(n):\n",
    "        petal(t, r, angle)\n",
    "        t.left(360.0/n)\n",
    "\n",
    "# 이 함수는 펜을 들어서 옮기는 명령, 즉 그림을 그리지 않는 명령\n",
    "def move(t, length):\n",
    "    t.penup()\n",
    "    t.forward(length)\n",
    "    t.pendown()\n",
    "\n",
    "bsh = turtle.Pen()\n",
    "\n",
    "bsh.speed(0)\n",
    "\n",
    "\n",
    "colors=[\"violet\",\"chocolate\",\"yellow\",\"red\",\"blue\",\"black\",\"green\",\"purple\",\"cyan\"]\n",
    "move_value=[100,150,200,300,-100,-150,-200]\n",
    "goto_value_x=[-200,-150,-100,-50,0,50,100,150,200]\n",
    "goto_value_y=[-200,-150,-100,-50,0,50,100,150,200]\n",
    "for i in range(10):\n",
    "    bsh.pu()\n",
    "    bsh.goto(random.choice(goto_value_y),random.choice(goto_value_y))\n",
    "    bsh.color(random.choice(colors))\n",
    "    bsh.begin_fill()\n",
    "    move(bsh, random.choice(move_value))\n",
    "    flower(bsh, 7, 60.0, 60.0)\n",
    "    bsh.end_fill()\n",
    "\n",
    " \n",
    "    "
   ]
  },
  {
   "cell_type": "code",
   "execution_count": 10,
   "metadata": {},
   "outputs": [],
   "source": [
    "bsh.reset()"
   ]
  },
  {
   "cell_type": "code",
   "execution_count": 3,
   "metadata": {},
   "outputs": [
    {
     "name": "stdout",
     "output_type": "stream",
     "text": [
      "0\n",
      "1\n",
      "2\n",
      "3\n",
      "4\n",
      "5\n",
      "6\n",
      "7\n",
      "8\n",
      "9\n"
     ]
    }
   ],
   "source": []
  },
  {
   "cell_type": "code",
   "execution_count": null,
   "metadata": {},
   "outputs": [],
   "source": []
  }
 ],
 "metadata": {
  "kernelspec": {
   "display_name": "Python 3",
   "language": "python",
   "name": "python3"
  },
  "language_info": {
   "codemirror_mode": {
    "name": "ipython",
    "version": 3
   },
   "file_extension": ".py",
   "mimetype": "text/x-python",
   "name": "python",
   "nbconvert_exporter": "python",
   "pygments_lexer": "ipython3",
   "version": "3.7.4"
  }
 },
 "nbformat": 4,
 "nbformat_minor": 2
}
