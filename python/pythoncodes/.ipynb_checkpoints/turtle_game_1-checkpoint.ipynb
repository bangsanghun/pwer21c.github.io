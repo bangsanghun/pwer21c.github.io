{
 "cells": [
  {
   "cell_type": "code",
   "execution_count": 4,
   "metadata": {},
   "outputs": [],
   "source": [
    "import turtle\n"
   ]
  },
  {
   "cell_type": "code",
   "execution_count": 6,
   "metadata": {},
   "outputs": [],
   "source": [
    "stage=turtle.Screen()\n",
    "stage.bgcolor(\"black\")\n",
    "stage.title(\"my game\")\n",
    "\n",
    "sanghun=turtle.Turtle()\n",
    "sanghun.color(\"yellow\")\n",
    "sanghun.penup()\n",
    "sanghun.setposition(-250,-250)\n",
    "sanghun.pendown()\n",
    "sanghun.pensize(3)\n",
    "for i in range(4):\n",
    "    sanghun.forward(500)\n",
    "    sanghun.left(90)\n",
    "sanghun.hideturtle()\n",
    "\n",
    "bsh=turtle.Turtle()\n",
    "bsh.color(\"white\")\n",
    "bsh.shape(\"turtle\")\n",
    "\n",
    "positions=[]\n",
    "\n",
    "\n",
    "def go_up():\n",
    "    bsh.setheading(90)\n",
    "    \n",
    "def go_down():\n",
    "    bsh.setheading(270)\n",
    "    \n",
    "def go_left():\n",
    "    bsh.setheading(180)\n",
    "    \n",
    "def go_right():\n",
    "    bsh.setheading(0)\n",
    "    \n",
    "stage.listen()\n",
    "stage.onkey(go_right,\"Right\")\n",
    "stage.onkey(go_up,\"Up\")\n",
    "stage.onkey(go_down,\"Down\")\n",
    "stage.onkey(go_left,\"Left\")\n",
    "\n",
    "while True:\n",
    "    bsh.forward(1)\n",
    "    if bsh.xcor() > 240 or bsh.xcor() <-240:\n",
    "        break;\n",
    "    if bsh.ycor() > 240 or bsh.ycor() <-240:\n",
    "        break;\n",
    "    position=(bsh.xcor(),bsh.ycor())\n",
    "    if position in positions:\n",
    "        break;\n",
    "    else:\n",
    "        positions.append(position)"
   ]
  },
  {
   "cell_type": "code",
   "execution_count": 7,
   "metadata": {},
   "outputs": [],
   "source": [
    "\n",
    "    \n"
   ]
  },
  {
   "cell_type": "code",
   "execution_count": 12,
   "metadata": {},
   "outputs": [],
   "source": [
    "exit()"
   ]
  },
  {
   "cell_type": "code",
   "execution_count": null,
   "metadata": {},
   "outputs": [],
   "source": []
  }
 ],
 "metadata": {
  "kernelspec": {
   "display_name": "Python 3",
   "language": "python",
   "name": "python3"
  },
  "language_info": {
   "codemirror_mode": {
    "name": "ipython",
    "version": 3
   },
   "file_extension": ".py",
   "mimetype": "text/x-python",
   "name": "python",
   "nbconvert_exporter": "python",
   "pygments_lexer": "ipython3",
   "version": "3.7.4"
  }
 },
 "nbformat": 4,
 "nbformat_minor": 2
}
