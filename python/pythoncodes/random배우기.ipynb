{
 "cells": [
  {
   "cell_type": "code",
   "execution_count": 1,
   "metadata": {},
   "outputs": [],
   "source": [
    "import random\n"
   ]
  },
  {
   "cell_type": "code",
   "execution_count": 29,
   "metadata": {},
   "outputs": [
    {
     "name": "stdout",
     "output_type": "stream",
     "text": [
      "10\n"
     ]
    }
   ],
   "source": [
    "\n",
    "my_number=random.randint(1,10)\n",
    "print(my_number)"
   ]
  },
  {
   "cell_type": "code",
   "execution_count": 33,
   "metadata": {},
   "outputs": [
    {
     "name": "stdout",
     "output_type": "stream",
     "text": [
      "b\n"
     ]
    }
   ],
   "source": [
    "alphabet=['a','b','c','d','e','f']\n",
    "print(random.choice(alphabet))"
   ]
  },
  {
   "cell_type": "markdown",
   "metadata": {},
   "source": [
    "예제. 컴퓨터가 숫자를 하나 생각하면 우리가 그 숫자를 맞추는 게임을 만들어 봅시다."
   ]
  },
  {
   "cell_type": "code",
   "execution_count": 36,
   "metadata": {
    "scrolled": true
   },
   "outputs": [
    {
     "name": "stdout",
     "output_type": "stream",
     "text": [
      "나는 얼마일까요 ?500\n",
      "너무 커요 숫자가. 다시 입력해 주세요\n",
      "나는 얼마일까요 ?300\n",
      "너무 커요 숫자가. 다시 입력해 주세요\n",
      "나는 얼마일까요 ?200\n",
      "너무 커요 숫자가. 다시 입력해 주세요\n",
      "나는 얼마일까요 ?100\n",
      "너무 커요 숫자가. 다시 입력해 주세요\n",
      "나는 얼마일까요 ?50\n",
      "너무 커요 숫자가. 다시 입력해 주세요\n",
      "나는 얼마일까요 ?30\n",
      "너무 커요 숫자가. 다시 입력해 주세요\n",
      "나는 얼마일까요 ?20\n",
      "너무 숫자가 작아요. 다시 하세요\n",
      "나는 얼마일까요 ?25\n",
      "너무 숫자가 작아요. 다시 하세요\n",
      "나는 얼마일까요 ?23\n",
      "너무 숫자가 작아요. 다시 하세요\n",
      "나는 얼마일까요 ?24\n",
      "너무 숫자가 작아요. 다시 하세요\n",
      "나는 얼마일까요 ?26\n",
      "너무 숫자가 작아요. 다시 하세요\n",
      "나는 얼마일까요 ?27\n",
      "잘했어요!!!!! 당신은 \n",
      "12\n",
      "번 만에 숫자를 맞추셨어요\n"
     ]
    }
   ],
   "source": [
    "computer=random.randint(1,1000)\n",
    "  \n",
    "i=0\n",
    "while True:\n",
    "    your_number = float(input(\"나는 얼마일까요 ?\"))\n",
    "    i=i+1\n",
    "    if your_number > computer:\n",
    "        print(\"너무 커요 숫자가. 다시 입력해 주세요\")\n",
    "        \n",
    "    elif your_number < computer:\n",
    "        print(\"너무 숫자가 작아요. 다시 하세요\")\n",
    "    else:\n",
    "        print(\"잘했어요!!!!! 당신은 \")\n",
    "        print(i)\n",
    "        print (\"번 만에 숫자를 맞추셨어요\")\n",
    "        break;\n",
    "        "
   ]
  },
  {
   "cell_type": "code",
   "execution_count": null,
   "metadata": {},
   "outputs": [],
   "source": []
  }
 ],
 "metadata": {
  "kernelspec": {
   "display_name": "Python 3",
   "language": "python",
   "name": "python3"
  },
  "language_info": {
   "codemirror_mode": {
    "name": "ipython",
    "version": 3
   },
   "file_extension": ".py",
   "mimetype": "text/x-python",
   "name": "python",
   "nbconvert_exporter": "python",
   "pygments_lexer": "ipython3",
   "version": "3.7.4"
  }
 },
 "nbformat": 4,
 "nbformat_minor": 2
}
