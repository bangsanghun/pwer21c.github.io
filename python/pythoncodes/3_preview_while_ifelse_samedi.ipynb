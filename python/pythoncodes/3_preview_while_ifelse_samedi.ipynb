{
 "cells": [
  {
   "cell_type": "markdown",
   "metadata": {},
   "source": [
    "지금 밖에 비가 온다면 나갈때 우산을 들고 나가야 하죠 ?\n",
    "비가 온다면 if it rains , s'il pleut\n",
    "조건문 입니다.\n"
   ]
  },
  {
   "cell_type": "markdown",
   "metadata": {},
   "source": [
    "잘 기억해 두세요\n",
    "\n",
    "Equals: a == b\n",
    "Not Equals: a != b\n",
    "Less than: a < b\n",
    "Less than or equal to: a <= b\n",
    "Greater than: a > b\n",
    "Greater than or equal to: a >= b"
   ]
  },
  {
   "cell_type": "markdown",
   "metadata": {},
   "source": [
    "그럼 좀더 다르게 해볼까요?"
   ]
  },
  {
   "cell_type": "code",
   "execution_count": 5,
   "metadata": {},
   "outputs": [
    {
     "name": "stdout",
     "output_type": "stream",
     "text": [
      "a는 3보다 큽니다.\n"
     ]
    }
   ],
   "source": [
    "a=5\n",
    "if a>3:\n",
    "    print(\"a는 3보다 큽니다.\")"
   ]
  },
  {
   "cell_type": "code",
   "execution_count": 6,
   "metadata": {},
   "outputs": [],
   "source": [
    "a=1\n",
    "if a>3:\n",
    "    print(\"a는 3보다 큽니다.\")"
   ]
  },
  {
   "cell_type": "code",
   "execution_count": 8,
   "metadata": {},
   "outputs": [
    {
     "name": "stdout",
     "output_type": "stream",
     "text": [
      "b는 a보다 작아요\n"
     ]
    }
   ],
   "source": [
    "a=330\n",
    "b=200\n",
    "if b > a:\n",
    "    print(\"b는 a보다 커요\")\n",
    "elif b==a:\n",
    "    print(\"b와 a는 같은 숫자에요\")\n",
    "else:\n",
    "    print(\"b는 a보다 작아요\")\n",
    "    \n"
   ]
  },
  {
   "cell_type": "code",
   "execution_count": null,
   "metadata": {},
   "outputs": [],
   "source": [
    "while 문을 이용하여 1에서 10까지 출력하세요"
   ]
  },
  {
   "cell_type": "code",
   "execution_count": 19,
   "metadata": {},
   "outputs": [
    {
     "name": "stdout",
     "output_type": "stream",
     "text": [
      "2\n",
      "4\n",
      "6\n",
      "8\n",
      "10\n"
     ]
    }
   ],
   "source": [
    "i=2\n",
    "while i<11:\n",
    "    print(i)\n",
    "    i=i+2"
   ]
  },
  {
   "cell_type": "code",
   "execution_count": 20,
   "metadata": {},
   "outputs": [
    {
     "name": "stdout",
     "output_type": "stream",
     "text": [
      "2\n",
      "4\n",
      "6\n",
      "8\n",
      "10\n"
     ]
    }
   ],
   "source": [
    "i=0\n",
    "while i<11:\n",
    "    if i!=0:\n",
    "        print(i)\n",
    "    i=i+2\n",
    "    "
   ]
  },
  {
   "cell_type": "code",
   "execution_count": 24,
   "metadata": {},
   "outputs": [
    {
     "name": "stdout",
     "output_type": "stream",
     "text": [
      "5\n",
      "10\n"
     ]
    }
   ],
   "source": [
    "i=1\n",
    "while i<11:\n",
    "    if i%5==0:\n",
    "        print(i)\n",
    "    i=i+1\n",
    "%    "
   ]
  },
  {
   "cell_type": "code",
   "execution_count": null,
   "metadata": {},
   "outputs": [],
   "source": [
    "while문을 이용하여 7의 배수 즉 7,14,21,..., 100까지의 숫자에서"
   ]
  },
  {
   "cell_type": "code",
   "execution_count": 25,
   "metadata": {},
   "outputs": [
    {
     "name": "stdout",
     "output_type": "stream",
     "text": [
      "['apple', 'banana', 'cherry']\n"
     ]
    }
   ],
   "source": [
    "fruits=[\"apple\", \"banana\", \"cherry\"]\n",
    "print(fruits)"
   ]
  },
  {
   "cell_type": "code",
   "execution_count": 28,
   "metadata": {},
   "outputs": [
    {
     "name": "stdout",
     "output_type": "stream",
     "text": [
      "cherry\n"
     ]
    }
   ],
   "source": [
    "print(fruits[2])"
   ]
  },
  {
   "cell_type": "code",
   "execution_count": 29,
   "metadata": {},
   "outputs": [],
   "source": [
    "fruits.remove(\"banana\")"
   ]
  },
  {
   "cell_type": "code",
   "execution_count": 30,
   "metadata": {},
   "outputs": [
    {
     "name": "stdout",
     "output_type": "stream",
     "text": [
      "['apple', 'cherry']\n"
     ]
    }
   ],
   "source": [
    "print(fruits)"
   ]
  },
  {
   "cell_type": "code",
   "execution_count": 31,
   "metadata": {},
   "outputs": [
    {
     "name": "stdout",
     "output_type": "stream",
     "text": [
      "['apple', 'cherry', 'banana']\n"
     ]
    }
   ],
   "source": [
    "fruits.append(\"banana\")\n",
    "print(fruits)"
   ]
  },
  {
   "cell_type": "code",
   "execution_count": 33,
   "metadata": {},
   "outputs": [
    {
     "name": "stdout",
     "output_type": "stream",
     "text": [
      "[7, 14, 21, 28, 35, 42, 49, 56, 63, 70, 77, 84, 91, 98]\n",
      "[5, 10, 15, 20, 25, 30, 40, 45, 50, 55, 60, 65, 75, 80, 85, 90, 95]\n"
     ]
    }
   ],
   "source": [
    "i=1\n",
    "group3=[]\n",
    "group6=[]\n",
    "group9=[]\n",
    "\n",
    "\n",
    "while i<100:\n",
    "    if i%7==0:\n",
    "        group7.append(i)\n",
    "    elif i%5==0:\n",
    "        group5.append(i)\n",
    "    i=i+1\n",
    "print(group7)\n",
    "print(group5)\n",
    "    \n",
    "    \n",
    "    "
   ]
  },
  {
   "cell_type": "code",
   "execution_count": 36,
   "metadata": {},
   "outputs": [
    {
     "name": "stdout",
     "output_type": "stream",
     "text": [
      "[3, 6, 9, 12, 15, 18, 21, 24, 27, 30, 33, 36, 39, 42, 45, 48, 51, 54, 57, 60, 63, 66, 69, 72, 75, 78, 81, 84, 87, 90, 93, 96, 99]\n",
      "[6, 12, 18, 24, 30, 36, 42, 48, 54, 60, 66, 72, 78, 84, 90, 96]\n",
      "[9, 18, 27, 36, 45, 54, 63, 72, 81, 90, 99]\n"
     ]
    }
   ],
   "source": [
    "i=1\n",
    "group3=[]\n",
    "group6=[]\n",
    "group9=[]\n",
    "\n",
    "\n",
    "while i<100:\n",
    "    if i%3==0:\n",
    "        group3.append(i)\n",
    "    if i%6==0:\n",
    "        group6.append(i)\n",
    "    if i%9==0:\n",
    "        group9.append(i)\n",
    "    i=i+1\n",
    "print(group3)\n",
    "print(group6)\n",
    "print(group9)    \n",
    "    "
   ]
  },
  {
   "cell_type": "code",
   "execution_count": 34,
   "metadata": {},
   "outputs": [
    {
     "name": "stdout",
     "output_type": "stream",
     "text": [
      "xyz\n"
     ]
    }
   ],
   "source": [
    "print(\"xyz\")"
   ]
  },
  {
   "cell_type": "code",
   "execution_count": 6,
   "metadata": {},
   "outputs": [
    {
     "name": "stdout",
     "output_type": "stream",
     "text": [
      "b는 a보다 커요\n"
     ]
    }
   ],
   "source": [
    "a=33\n",
    "b=200\n",
    "if b > a:\n",
    "    print(\"b는 a보다 커요\")\n",
    "elif b==a:\n",
    "    print(\"b와 a는 같은 숫자에요\")\n",
    "else:\n",
    "    print(\"b는 a보다 작아요\")\n",
    "    \n"
   ]
  },
  {
   "cell_type": "markdown",
   "metadata": {},
   "source": [
    "그럼 a의 숫자를 바꿔 봅시다. 330으로"
   ]
  },
  {
   "cell_type": "code",
   "execution_count": 7,
   "metadata": {},
   "outputs": [
    {
     "name": "stdout",
     "output_type": "stream",
     "text": [
      "b는 a보다 작아요\n"
     ]
    }
   ],
   "source": [
    "a=330\n",
    "b=200\n",
    "if b > a:\n",
    "    print(\"b는 a보다 커요\")\n",
    "elif b==a:\n",
    "    print(\"b와 a는 같은 숫자에요\")\n",
    "else:\n",
    "    print(\"b는 a보다 작아요\")\n",
    "    "
   ]
  },
  {
   "cell_type": "markdown",
   "metadata": {},
   "source": [
    "결과가 다른걸 알수가 있어요. 자 여기서 아래를 보세요"
   ]
  },
  {
   "cell_type": "code",
   "execution_count": 8,
   "metadata": {},
   "outputs": [
    {
     "ename": "IndentationError",
     "evalue": "expected an indented block (<ipython-input-8-a723ee43b343>, line 4)",
     "output_type": "error",
     "traceback": [
      "\u001b[0;36m  File \u001b[0;32m\"<ipython-input-8-a723ee43b343>\"\u001b[0;36m, line \u001b[0;32m4\u001b[0m\n\u001b[0;31m    print(\"b는 a보다 커요\")\u001b[0m\n\u001b[0m        ^\u001b[0m\n\u001b[0;31mIndentationError\u001b[0m\u001b[0;31m:\u001b[0m expected an indented block\n"
     ]
    }
   ],
   "source": [
    "a=330\n",
    "b=200\n",
    "if b > a:\n",
    "print(\"b는 a보다 커요\")\n",
    "elif b==a:\n",
    "print(\"b와 a는 같은 숫자에요\")\n",
    "else:\n",
    "print(\"b는 a보다 작아요\")\n",
    "    "
   ]
  },
  {
   "cell_type": "markdown",
   "metadata": {},
   "source": [
    "에러가 생겨요 꼭 : 다음에 오는건 앞에 공간을 비워서 줄을 맞춰야 해요. 그걸 indentation 에러인데 자주 만나게 될꺼에요."
   ]
  },
  {
   "cell_type": "markdown",
   "metadata": {},
   "source": [
    "자 이제는 while문"
   ]
  },
  {
   "cell_type": "code",
   "execution_count": 1,
   "metadata": {},
   "outputs": [
    {
     "name": "stdout",
     "output_type": "stream",
     "text": [
      "1\n",
      "2\n",
      "3\n",
      "4\n",
      "5\n"
     ]
    }
   ],
   "source": [
    "## 이건 뭔지 알죠 i라는 변수에 1을 집어 넣은거에요. i는 1이에요 그런데 변수는 변하는 거라고 했죠? 잘보세요\n",
    "i = 1 \n",
    "# while 옆에 있는 i<6은 i가 6보다 작으면 이 작업을 하겠다는 거에요\n",
    "while i < 6:\n",
    "  print(i)\n",
    "  i=i+1\n",
    "  \n",
    "    \n"
   ]
  },
  {
   "cell_type": "markdown",
   "metadata": {},
   "source": [
    "잘했어요. 그런데 저는 1에서 10까지 출력하고 싶어요.\n",
    "그러면"
   ]
  },
  {
   "cell_type": "code",
   "execution_count": 2,
   "metadata": {},
   "outputs": [
    {
     "name": "stdout",
     "output_type": "stream",
     "text": [
      "1\n",
      "2\n",
      "3\n",
      "4\n",
      "5\n",
      "6\n",
      "7\n",
      "8\n",
      "9\n"
     ]
    }
   ],
   "source": [
    "## 이건 뭔지 알죠 i라는 변수에 1을 집어 넣은거에요. i는 1이에요 그런데 변수는 변하는 거라고 했죠? 잘보세요\n",
    "i = 1 \n",
    "# while 옆에 있는 i<6은 i가 6보다 작으면 이 작업을 하겠다는 거에요\n",
    "while i < 10:\n",
    "  print(i)\n",
    "  i=i+1\n",
    "  \n",
    "    \n"
   ]
  },
  {
   "cell_type": "code",
   "execution_count": 4,
   "metadata": {},
   "outputs": [
    {
     "name": "stdout",
     "output_type": "stream",
     "text": [
      "2\n",
      "4\n",
      "6\n",
      "8\n",
      "10\n"
     ]
    }
   ],
   "source": [
    "i = 1 \n",
    "while i <= 10:\n",
    "  if i%2==0:\n",
    "    print(i)\n",
    "  i=i+1"
   ]
  },
  {
   "cell_type": "markdown",
   "metadata": {},
   "source": [
    "even, pair "
   ]
  }
 ],
 "metadata": {
  "kernelspec": {
   "display_name": "Python 3",
   "language": "python",
   "name": "python3"
  },
  "language_info": {
   "codemirror_mode": {
    "name": "ipython",
    "version": 3
   },
   "file_extension": ".py",
   "mimetype": "text/x-python",
   "name": "python",
   "nbconvert_exporter": "python",
   "pygments_lexer": "ipython3",
   "version": "3.7.4"
  }
 },
 "nbformat": 4,
 "nbformat_minor": 2
}
